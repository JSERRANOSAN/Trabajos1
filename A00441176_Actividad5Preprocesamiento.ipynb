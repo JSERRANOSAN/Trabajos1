{
  "cells": [
    {
      "cell_type": "markdown",
      "metadata": {
        "id": "view-in-github",
        "colab_type": "text"
      },
      "source": [
        "<a href=\"https://colab.research.google.com/github/JSERRANOSAN/Trabajos1/blob/main/A00441176_Actividad5Preprocesamiento.ipynb\" target=\"_parent\"><img src=\"https://colab.research.google.com/assets/colab-badge.svg\" alt=\"Open In Colab\"/></a>"
      ]
    },
    {
      "cell_type": "markdown",
      "metadata": {
        "id": "0v5lZjzQZTms"
      },
      "source": [
        "**MAESTRÍA EN INTELIGENCIA ARTIFICIAL APLICADA**\n",
        "\n",
        "**Curso: TC4029 - Ciencia y analítica de datos**\n",
        "\n",
        "Tecnológico de Monterrey\n",
        "\n",
        "Prof Grettel Barceló Alonso\n",
        "\n",
        "**Semana 5**\n",
        "Preprocesamiento de datos\n",
        "\n",
        "---"
      ]
    },
    {
      "cell_type": "markdown",
      "source": [
        "*   NOMBRE: -Jesús Antonio Serrano Sánchez\n",
        "*   MATRÍCULA: --00441176"
      ],
      "metadata": {
        "id": "HfLoXtuKuCug"
      }
    },
    {
      "cell_type": "code",
      "source": [
        "from google.colab import drive\n",
        "drive.mount('/content/drive')"
      ],
      "metadata": {
        "id": "nboaPqUVuHQc",
        "colab": {
          "base_uri": "https://localhost:8080/"
        },
        "outputId": "0a1fa971-17ba-4afe-fc42-09bf928cde93"
      },
      "execution_count": null,
      "outputs": [
        {
          "output_type": "stream",
          "name": "stdout",
          "text": [
            "Drive already mounted at /content/drive; to attempt to forcibly remount, call drive.mount(\"/content/drive\", force_remount=True).\n"
          ]
        }
      ]
    },
    {
      "cell_type": "code",
      "source": [
        "!pip install -U -q PyDrive\n",
        "\n",
        "from pydrive.auth import GoogleAuth\n",
        "from pydrive.drive import GoogleDrive\n",
        "from google.colab import auth\n",
        "from oauth2client.client import GoogleCredentials\n",
        "\n",
        "\n",
        "# Authenticate and create the PyDrive client.\n",
        "auth.authenticate_user()\n",
        "gauth = GoogleAuth()\n",
        "gauth.credentials = GoogleCredentials.get_application_default()\n",
        "drive = GoogleDrive(gauth)"
      ],
      "metadata": {
        "id": "sFroUWUsyBog"
      },
      "execution_count": 8,
      "outputs": []
    },
    {
      "cell_type": "code",
      "source": [
        "link = 'https://drive.google.com/file/d/10YJ_dzhG9StYD6y7Wz6KVCepXBX-UufC/view?usp=sharing'\n",
        "\n",
        "df = pd.read_csv('responses.csv')\n"
      ],
      "metadata": {
        "id": "2Bb_czUzybpb"
      },
      "execution_count": 69,
      "outputs": []
    },
    {
      "cell_type": "code",
      "execution_count": 12,
      "metadata": {
        "id": "7Qc1oYLeZTmu"
      },
      "outputs": [],
      "source": [
        "import pandas as pd\n",
        "import matplotlib.pyplot as plt\n",
        "import numpy as np\n",
        "import seaborn as sns"
      ]
    },
    {
      "cell_type": "markdown",
      "source": [
        "1. Determina cuántas variables numéricas y cuántas de texto posee el conjunto de datos con el método `info()` y utiliza el método `describe()` del dataframe, para obtener el resumen de las estadísticas descriptivas. Separa el análisis según el tipo de datos (number, object)."
      ],
      "metadata": {
        "id": "1k02v3UK_buz"
      }
    },
    {
      "cell_type": "code",
      "source": [
        "df.info()\n"
      ],
      "metadata": {
        "id": "tXvqye_oZV6T",
        "colab": {
          "base_uri": "https://localhost:8080/",
          "height": 0
        },
        "outputId": "a2a707fd-780c-4951-b1b0-208548d99b35"
      },
      "execution_count": 13,
      "outputs": [
        {
          "output_type": "stream",
          "name": "stdout",
          "text": [
            "<class 'pandas.core.frame.DataFrame'>\n",
            "RangeIndex: 1010 entries, 0 to 1009\n",
            "Columns: 150 entries, Music to House - block of flats\n",
            "dtypes: float64(134), int64(5), object(11)\n",
            "memory usage: 1.2+ MB\n"
          ]
        }
      ]
    },
    {
      "cell_type": "code",
      "source": [
        "print(len(df.select_dtypes(include=['int64', 'float64']).columns))\n",
        "print(\"columnas numericas\")"
      ],
      "metadata": {
        "colab": {
          "base_uri": "https://localhost:8080/",
          "height": 0
        },
        "id": "igAsiv5YAGjg",
        "outputId": "bcd24e5b-b4a1-41ec-d7a8-cdc862e67249"
      },
      "execution_count": 14,
      "outputs": [
        {
          "output_type": "stream",
          "name": "stdout",
          "text": [
            "139\n",
            "columnas numericas\n"
          ]
        }
      ]
    },
    {
      "cell_type": "code",
      "source": [
        "print(len(df.select_dtypes(include=['object']).columns))\n",
        "print(\"columnas de texto\")"
      ],
      "metadata": {
        "colab": {
          "base_uri": "https://localhost:8080/",
          "height": 0
        },
        "id": "mVVe5Xy3Ahd8",
        "outputId": "4b87aa51-cbcd-4f43-a5b0-957cb5c569ec"
      },
      "execution_count": 17,
      "outputs": [
        {
          "output_type": "stream",
          "name": "stdout",
          "text": [
            "11\n",
            "columnas de texto\n"
          ]
        }
      ]
    },
    {
      "cell_type": "code",
      "source": [
        "numeric_cols = df.select_dtypes(include='number')\n",
        "print(numeric_cols.describe())\n",
        "\n",
        "# Separar columnas de texto\n",
        "text_cols = df.select_dtypes(include='object')\n",
        "print(text_cols.describe())"
      ],
      "metadata": {
        "colab": {
          "base_uri": "https://localhost:8080/",
          "height": 0
        },
        "id": "fC2FLIPjCJkM",
        "outputId": "befdc750-e5de-42a2-84d3-06940a32e48c"
      },
      "execution_count": 20,
      "outputs": [
        {
          "output_type": "stream",
          "name": "stdout",
          "text": [
            "             Music  Slow songs or fast songs        Dance         Folk  \\\n",
            "count  1007.000000               1008.000000  1006.000000  1005.000000   \n",
            "mean      4.731877                  3.328373     3.113320     2.288557   \n",
            "std       0.664049                  0.833931     1.170568     1.138916   \n",
            "min       1.000000                  1.000000     1.000000     1.000000   \n",
            "25%       5.000000                  3.000000     2.000000     1.000000   \n",
            "50%       5.000000                  3.000000     3.000000     2.000000   \n",
            "75%       5.000000                  4.000000     4.000000     3.000000   \n",
            "max       5.000000                  5.000000     5.000000     5.000000   \n",
            "\n",
            "           Country  Classical music      Musical          Pop         Rock  \\\n",
            "count  1005.000000      1003.000000  1008.000000  1007.000000  1004.000000   \n",
            "mean      2.123383         2.956132     2.761905     3.471698     3.761952   \n",
            "std       1.076136         1.252570     1.260845     1.161400     1.184861   \n",
            "min       1.000000         1.000000     1.000000     1.000000     1.000000   \n",
            "25%       1.000000         2.000000     2.000000     3.000000     3.000000   \n",
            "50%       2.000000         3.000000     3.000000     4.000000     4.000000   \n",
            "75%       3.000000         4.000000     4.000000     4.000000     5.000000   \n",
            "max       5.000000         5.000000     5.000000     5.000000     5.000000   \n",
            "\n",
            "       Metal or Hardrock  ...  Shopping centres  Branded clothing  \\\n",
            "count        1007.000000  ...       1008.000000       1008.000000   \n",
            "mean            2.361470  ...          3.234127          3.050595   \n",
            "std             1.372995  ...          1.323062          1.306321   \n",
            "min             1.000000  ...          1.000000          1.000000   \n",
            "25%             1.000000  ...          2.000000          2.000000   \n",
            "50%             2.000000  ...          3.000000          3.000000   \n",
            "75%             3.000000  ...          4.000000          4.000000   \n",
            "max             5.000000  ...          5.000000          5.000000   \n",
            "\n",
            "       Entertainment spending  Spending on looks  Spending on gadgets  \\\n",
            "count             1007.000000        1007.000000          1010.000000   \n",
            "mean                 3.201589           3.106256             2.870297   \n",
            "std                  1.188947           1.205368             1.284970   \n",
            "min                  1.000000           1.000000             1.000000   \n",
            "25%                  2.000000           2.000000             2.000000   \n",
            "50%                  3.000000           3.000000             3.000000   \n",
            "75%                  4.000000           4.000000             4.000000   \n",
            "max                  5.000000           5.000000             5.000000   \n",
            "\n",
            "       Spending on healthy eating          Age      Height      Weight  \\\n",
            "count                  1008.00000  1003.000000  990.000000  990.000000   \n",
            "mean                      3.55754    20.433699  173.514141   66.405051   \n",
            "std                       1.09375     2.828840   10.024505   13.839561   \n",
            "min                       1.00000    15.000000   62.000000   41.000000   \n",
            "25%                       3.00000    19.000000  167.000000   55.000000   \n",
            "50%                       4.00000    20.000000  173.000000   64.000000   \n",
            "75%                       4.00000    22.000000  180.000000   75.000000   \n",
            "max                       5.00000    30.000000  203.000000  165.000000   \n",
            "\n",
            "       Number of siblings  \n",
            "count         1004.000000  \n",
            "mean             1.297809  \n",
            "std              1.013348  \n",
            "min              0.000000  \n",
            "25%              1.000000  \n",
            "50%              1.000000  \n",
            "75%              2.000000  \n",
            "max             10.000000  \n",
            "\n",
            "[8 rows x 139 columns]\n",
            "              Smoking         Alcohol          Punctuality      Lying  \\\n",
            "count            1002            1005                 1008       1008   \n",
            "unique              4               3                    3          4   \n",
            "top     tried smoking  social drinker  i am always on time  sometimes   \n",
            "freq              430             659                  399        549   \n",
            "\n",
            "         Internet usage  Gender Left - right handed         Education  \\\n",
            "count              1010    1004                1007              1009   \n",
            "unique                4       2                   2                 6   \n",
            "top     few hours a day  female        right handed  secondary school   \n",
            "freq                744     593                 906               621   \n",
            "\n",
            "       Only child Village - town House - block of flats  \n",
            "count        1008           1006                   1006  \n",
            "unique          2              2                      2  \n",
            "top            no           city         block of flats  \n",
            "freq          754            707                    595  \n"
          ]
        }
      ]
    },
    {
      "cell_type": "code",
      "source": [
        "print('Número de faltantes por columna: ')\n",
        "for col in df.columns:\n",
        "  n_Faltantes= sum(df[col].isna())\n",
        "  print('{}:{}'.format(col,n_Faltantes))"
      ],
      "metadata": {
        "colab": {
          "base_uri": "https://localhost:8080/",
          "height": 0
        },
        "id": "l1iV4dy4i4a3",
        "outputId": "b3253231-28db-42b6-876d-6c73d3c01fa3"
      },
      "execution_count": 72,
      "outputs": [
        {
          "output_type": "stream",
          "name": "stdout",
          "text": [
            "Número de faltantes por columna: \n",
            "Music:3\n",
            "Slow songs or fast songs:2\n",
            "Dance:4\n",
            "Folk:5\n",
            "Country:5\n",
            "Classical music:7\n",
            "Musical:2\n",
            "Pop:3\n",
            "Rock:6\n",
            "Metal or Hardrock:3\n",
            "Punk:8\n",
            "Hiphop, Rap:4\n",
            "Reggae, Ska:7\n",
            "Swing, Jazz:6\n",
            "Rock n roll:7\n",
            "Alternative:7\n",
            "Latino:8\n",
            "Techno, Trance:7\n",
            "Opera:1\n",
            "Movies:6\n",
            "Horror:2\n",
            "Thriller:1\n",
            "Comedy:3\n",
            "Romantic:3\n",
            "Sci-fi:2\n",
            "War:2\n",
            "Fantasy/Fairy tales:3\n",
            "Animated:3\n",
            "Documentary:8\n",
            "Western:4\n",
            "Action:2\n",
            "History:2\n",
            "Psychology:5\n",
            "Politics:1\n",
            "Mathematics:3\n",
            "Physics:3\n",
            "Internet:4\n",
            "PC:6\n",
            "Economy Management:5\n",
            "Biology:6\n",
            "Chemistry:10\n",
            "Reading:6\n",
            "Geography:9\n",
            "Foreign languages:5\n",
            "Medicine:5\n",
            "Law:1\n",
            "Cars:4\n",
            "Art exhibitions:6\n",
            "Religion:3\n",
            "Countryside, outdoors:7\n",
            "Dancing:3\n",
            "Musical instruments:1\n",
            "Writing:6\n",
            "Passive sport:15\n",
            "Active sport:4\n",
            "Gardening:7\n",
            "Celebrities:2\n",
            "Shopping:2\n",
            "Science and technology:6\n",
            "Theatre:8\n",
            "Fun with friends:4\n",
            "Adrenaline sports:3\n",
            "Pets:4\n",
            "Flying:3\n",
            "Storm:1\n",
            "Darkness:2\n",
            "Heights:3\n",
            "Spiders:5\n",
            "Snakes:0\n",
            "Rats:3\n",
            "Ageing:1\n",
            "Dangerous dogs:1\n",
            "Fear of public speaking:1\n",
            "Smoking:8\n",
            "Alcohol:5\n",
            "Healthy eating:3\n",
            "Daily events:7\n",
            "Prioritising workload:5\n",
            "Writing notes:3\n",
            "Workaholism:5\n",
            "Thinking ahead:3\n",
            "Final judgement:7\n",
            "Reliability:4\n",
            "Keeping promises:1\n",
            "Loss of interest:4\n",
            "Friends versus money:6\n",
            "Funniness:4\n",
            "Fake:1\n",
            "Criminal damage:7\n",
            "Decision making:4\n",
            "Elections:3\n",
            "Self-criticism:5\n",
            "Judgment calls:4\n",
            "Hypochondria:4\n",
            "Empathy:5\n",
            "Eating to survive:0\n",
            "Giving:6\n",
            "Compassion to animals:7\n",
            "Borrowed stuff:2\n",
            "Loneliness:1\n",
            "Cheating in school:4\n",
            "Health:1\n",
            "Changing the past:2\n",
            "God:2\n",
            "Dreams:0\n",
            "Charity:3\n",
            "Number of friends:0\n",
            "Punctuality:2\n",
            "Lying:2\n",
            "Waiting:3\n",
            "New environment:2\n",
            "Mood swings:4\n",
            "Appearence and gestures:3\n",
            "Socializing:5\n",
            "Achievements:2\n",
            "Responding to a serious letter:6\n",
            "Children:4\n",
            "Assertiveness:2\n",
            "Getting angry:4\n",
            "Knowing the right people:2\n",
            "Public speaking:2\n",
            "Unpopularity:3\n",
            "Life struggles:3\n",
            "Happiness in life:4\n",
            "Energy levels:5\n",
            "Small - big dogs:4\n",
            "Personality:4\n",
            "Finding lost valuables:4\n",
            "Getting up:5\n",
            "Interests or hobbies:3\n",
            "Parents' advice:2\n",
            "Questionnaires or polls:4\n",
            "Internet usage:0\n",
            "Finances:3\n",
            "Shopping centres:2\n",
            "Branded clothing:2\n",
            "Entertainment spending:3\n",
            "Spending on looks:3\n",
            "Spending on gadgets:0\n",
            "Spending on healthy eating:2\n",
            "Age:7\n",
            "Height:20\n",
            "Weight:20\n",
            "Number of siblings:6\n",
            "Gender:6\n",
            "Left - right handed:3\n",
            "Education:1\n",
            "Only child:2\n",
            "Village - town:4\n",
            "House - block of flats:4\n"
          ]
        }
      ]
    },
    {
      "cell_type": "markdown",
      "source": [
        "2. Clasifique la variable `Weight` según su escala de medición. En función de ello elija el gráfico a generar (histograma / barras) y fundamente su elección.\n"
      ],
      "metadata": {
        "id": "N7Hsy0_6_pMv"
      }
    },
    {
      "cell_type": "code",
      "source": [
        "df['Weight'].plot.hist(bins=25)"
      ],
      "metadata": {
        "id": "fY4OJ-89ZX4X",
        "colab": {
          "base_uri": "https://localhost:8080/",
          "height": 447
        },
        "outputId": "0681a384-80b4-499c-f021-884442a0adc8"
      },
      "execution_count": 28,
      "outputs": [
        {
          "output_type": "execute_result",
          "data": {
            "text/plain": [
              "<Axes: ylabel='Frequency'>"
            ]
          },
          "metadata": {},
          "execution_count": 28
        },
        {
          "output_type": "display_data",
          "data": {
            "text/plain": [
              "<Figure size 640x480 with 1 Axes>"
            ],
            "image/png": "[encoded data removed]"
          },
          "metadata": {}
        }
      ]
    },
    {
      "cell_type": "markdown",
      "source": [
        "3. Clasifique la distribución del peso según su asimetría, justificando tu respuesta. Incluye el cálculo numérico que lo demuestra."
      ],
      "metadata": {
        "id": "oE8ascx0_3uz"
      }
    },
    {
      "cell_type": "code",
      "source": [
        "df['Weight'].skew()"
      ],
      "metadata": {
        "id": "aZtuwJTeZZMJ",
        "colab": {
          "base_uri": "https://localhost:8080/",
          "height": 0
        },
        "outputId": "2c772a7f-8a12-422a-ff66-b16273eeb45a"
      },
      "execution_count": 34,
      "outputs": [
        {
          "output_type": "execute_result",
          "data": {
            "text/plain": [
              "1.2237251927527477"
            ]
          },
          "metadata": {},
          "execution_count": 34
        }
      ]
    },
    {
      "cell_type": "markdown",
      "source": [
        "De acuerdo con la teoría, si el coeficiente de skewness es positivo, como ocurre en este caso, tenemos un sesgo a la derecha. (Cfr. Turney, S. (2022). Skewness: Definition, Examples & Formula. https://www.scribbr.com/statistics/skewness/ )"
      ],
      "metadata": {
        "id": "On4DfYXcIvi3"
      }
    },
    {
      "cell_type": "markdown",
      "source": [
        "4. ¿Cuántos valores faltantes tiene la variable `Weight`? ¿Qué porcentaje representa?\n"
      ],
      "metadata": {
        "id": "PbEJw57zAjKb"
      }
    },
    {
      "cell_type": "code",
      "source": [
        "print(df['Weight'].count(),\" valores faltantes\")\n",
        "print((df['Weight'].count() / df.size) * 100,\" %\")"
      ],
      "metadata": {
        "id": "O9tOsh4SZath",
        "colab": {
          "base_uri": "https://localhost:8080/",
          "height": 0
        },
        "outputId": "b6c708ec-29a9-4dec-dc07-2dd3ebb4e4be"
      },
      "execution_count": 75,
      "outputs": [
        {
          "output_type": "stream",
          "name": "stdout",
          "text": [
            "990  valores faltantes\n",
            "0.6534653465346535  %\n"
          ]
        }
      ]
    },
    {
      "cell_type": "markdown",
      "source": [
        "5. ¿Tendrán los valores faltantes de `Weight` relación con alguna otra variable? Analízalo considerando las siguientes columnas:\n",
        "*   Numéricas: `Age, Number of siblings`\n",
        "*   Categóricas: `Gender, Education`\n",
        "\n",
        "Para ello deberás dividir cada columna en dos grupos: con/sin faltantes en `Weight` y utilizar métodos gráficos y la prueba t para ver si hay diferencias significativas.\n",
        "\n",
        "**NOTA**. Puedes reutilizar las funciones `Diagnose_MV_Numerical` y `Diagnose_MV_Categorical` definidas en Hands-On-Prep_Missing_Values.zip. Revisa nuevamente cómo utilizarlas."
      ],
      "metadata": {
        "id": "gGdTTlwoAvRN"
      }
    },
    {
      "cell_type": "code",
      "source": [
        "BM_MV = df.Weight.isna()\n",
        "MV_labels = ['Con Valores perdidos','Sin valores perdidos']\n",
        "BM_MV\n",
        "\n",
        "\n",
        "box_sr = pd.Series('',index = BM_MV.unique())\n",
        "for poss in BM_MV.unique():\n",
        "    BM = BM_MV == poss\n",
        "    box_sr[poss] = df[BM].Age\n",
        "\n",
        "# Age values corresponding to observations with Weight in Weight\n",
        "box_sr[True]\n",
        "\n",
        "# Age values corresponding to observations sin Weight in Weightbox_sr[False]\n",
        "box_sr[False]\n",
        "\n",
        "# Se hace la gráfica de caja y bigotes, para comparar los dos grupos de observaciones\n",
        "plt.boxplot(box_sr,vert=False)\n",
        "plt.yticks([1,2],MV_labels)\n",
        "\n",
        "# Se hace gráfica de histograma\n",
        "BM_MV = df.Weight.isna()\n",
        "Age_range = (df.Age.min(),df.Age.max())\n",
        "MV_labels = ['Con valores perdidos','Sin valores perdidos']\n",
        "plt.figure(figsize=(10,4))\n",
        "plt.show\n",
        "\n",
        "for i,poss in enumerate(BM_MV.unique()):\n",
        "    plt.subplot(1,2,i+1)\n",
        "    BM = BM_MV == poss\n",
        "    df[BM].Age.hist()\n",
        "    plt.xlim = Age_range\n",
        "    plt.title(MV_labels[i])\n",
        "\n",
        "\n"
      ],
      "metadata": {
        "colab": {
          "base_uri": "https://localhost:8080/",
          "height": 821
        },
        "id": "qSe4hszAQfQ2",
        "outputId": "dd8e8b6f-168c-43de-db50-68ea0f728659"
      },
      "execution_count": 81,
      "outputs": [
        {
          "output_type": "execute_result",
          "data": {
            "text/plain": [
              "TtestResult(statistic=nan, pvalue=nan, df=nan)"
            ]
          },
          "metadata": {},
          "execution_count": 81
        },
        {
          "output_type": "display_data",
          "data": {
            "text/plain": [
              "<Figure size 640x480 with 1 Axes>"
            ],
            "image/png": "[encoded data removed]"
          },
          "metadata": {}
        },
        {
          "output_type": "display_data",
          "data": {
            "text/plain": [
              "<Figure size 1000x400 with 2 Axes>"
            ],
            "image/png": "[encoded data removed]"
          },
          "metadata": {}
        }
      ]
    },
    {
      "cell_type": "code",
      "source": [
        "\n",
        "from scipy.stats import ttest_ind\n",
        "BM_MV = df.Weight.isna()\n",
        "\n",
        "ttest_ind(df[BM_MV].Age, df[~BM_MV].Age).pvalue"
      ],
      "metadata": {
        "colab": {
          "base_uri": "https://localhost:8080/",
          "height": 0
        },
        "id": "KV7YygUZoLpR",
        "outputId": "fbf5f3e2-5a86-4bfe-9dc2-a67f2ebe24c8"
      },
      "execution_count": 88,
      "outputs": [
        {
          "output_type": "execute_result",
          "data": {
            "text/plain": [
              "nan"
            ]
          },
          "metadata": {},
          "execution_count": 88
        }
      ]
    },
    {
      "cell_type": "code",
      "source": [
        "#5b Comparar con Numer of Siblings\n",
        "\n",
        "BM_MV22 = df.Weight.isna()\n",
        "MV_labels = ['Con Valores perdidos','Sin valores perdidos']\n",
        "BM_MV2\n",
        "\n",
        "\n",
        "box_sr = pd.Series('',index = BM_MV2.unique())\n",
        "for poss in BM_MV2.unique():\n",
        "    BM = BM_MV2 == poss\n",
        "    box_sr[poss] = df[BM].Number of siblings\n",
        "\n",
        "# Number of siblings values corresponding to observations with Weight in Weight\n",
        "box_sr[True]\n",
        "\n",
        "# Number of siblings values corresponding to observations sin Weight in Weightbox_sr[False]\n",
        "box_sr[False]\n",
        "\n",
        "# Se hace la gráfica de caja y bigotes, para comparar los dos grupos de observaciones\n",
        "plt.boxplot(box_sr,vert=False)\n",
        "plt.yticks([1,2],MV_labels)\n",
        "\n",
        "# Se hace gráfica de histograma\n",
        "BM_MV2 = df.Weight.isna()\n",
        "Number of siblings_range = (df.Number of siblings.min(),df.Number of siblings.max())\n",
        "MV_labels = ['Con valores perdidos','Sin valores perdidos']\n",
        "plt.figure(figsize=(10,4))\n",
        "plt.show\n",
        "\n",
        "for i,poss in enumerate(BM_MV2.unique()):\n",
        "    plt.subplot(1,2,i+1)\n",
        "    BM = BM_MV2 == poss\n",
        "    df[BM].Number of siblings.hist()\n",
        "    plt.xlim = Number of siblings_range\n",
        "    plt.title(MV_labels[i])"
      ],
      "metadata": {
        "colab": {
          "base_uri": "https://localhost:8080/",
          "height": 140
        },
        "id": "ZyNetYmRtF54",
        "outputId": "9acd765f-1b46-4174-fec4-fb2cb4fccfd2"
      },
      "execution_count": 98,
      "outputs": [
        {
          "output_type": "error",
          "ename": "SyntaxError",
          "evalue": "ignored",
          "traceback": [
            "\u001b[0;36m  File \u001b[0;32m\"<ipython-input-98-d10f649b9614>\"\u001b[0;36m, line \u001b[0;32m11\u001b[0m\n\u001b[0;31m    box_sr[poss] = df[BM].Number of siblings\u001b[0m\n\u001b[0m                                 ^\u001b[0m\n\u001b[0;31mSyntaxError\u001b[0m\u001b[0;31m:\u001b[0m invalid syntax\n"
          ]
        }
      ]
    },
    {
      "cell_type": "code",
      "source": [
        "#5b Prueba de independencia para Gender\n",
        "BM_MV3 = df.Weight.isna()\n",
        "MV_labels = ['Sin valores perdidos','Con valores perdidos']\n",
        "\n",
        "plt.figure(figsize=(10,4))\n",
        "for i,poss in enumerate(BM_MV3.unique()):\n",
        "    plt.subplot(1,2,i+1)\n",
        "    BM = BM_MV3 == poss\n",
        "    df[BM].Gender.value_counts().plot.bar()\n",
        "    plt.title(MV_labels[i])\n",
        "plt.show()"
      ],
      "metadata": {
        "colab": {
          "base_uri": "https://localhost:8080/",
          "height": 425
        },
        "id": "VKzNYyFltPv2",
        "outputId": "657d2c2a-4f52-4107-9d16-6e1455be80aa"
      },
      "execution_count": 114,
      "outputs": [
        {
          "output_type": "display_data",
          "data": {
            "text/plain": [
              "<Figure size 1000x400 with 1 Axes>"
            ],
            "image/png": "[encoded data removed]"
          },
          "metadata": {}
        }
      ]
    },
    {
      "cell_type": "code",
      "source": [
        "from scipy.stats import chi2_contingency\n",
        "BM_MV4 = df.Weight.isna()\n",
        "contigency_table = pd.crosstab(BM_MV4,df.Gender)\n",
        "contigency_table"
      ],
      "metadata": {
        "colab": {
          "base_uri": "https://localhost:8080/",
          "height": 112
        },
        "id": "qXhVa77H2HW3",
        "outputId": "dcffa920-c786-4b34-c930-7d96a9ef8d91"
      },
      "execution_count": 115,
      "outputs": [
        {
          "output_type": "execute_result",
          "data": {
            "text/plain": [
              "Gender  female  male\n",
              "Weight              \n",
              "False      578   394"
            ],
            "text/html": [
              "\n",
              "  <div id=\"df-92ace8c2-a329-4c01-97e6-e20cd3f9d4ea\" class=\"colab-df-container\">\n",
              "    <div>\n",
              "<style scoped>\n",
              "    .dataframe tbody tr th:only-of-type {\n",
              "        vertical-align: middle;\n",
              "    }\n",
              "\n",
              "    .dataframe tbody tr th {\n",
              "        vertical-align: top;\n",
              "    }\n",
              "\n",
              "    .dataframe thead th {\n",
              "        text-align: right;\n",
              "    }\n",
              "</style>\n",
              "<table border=\"1\" class=\"dataframe\">\n",
              "  <thead>\n",
              "    <tr style=\"text-align: right;\">\n",
              "      <th>Gender</th>\n",
              "      <th>female</th>\n",
              "      <th>male</th>\n",
              "    </tr>\n",
              "    <tr>\n",
              "      <th>Weight</th>\n",
              "      <th></th>\n",
              "      <th></th>\n",
              "    </tr>\n",
              "  </thead>\n",
              "  <tbody>\n",
              "    <tr>\n",
              "      <th>False</th>\n",
              "      <td>578</td>\n",
              "      <td>394</td>\n",
              "    </tr>\n",
              "  </tbody>\n",
              "</table>\n",
              "</div>\n",
              "    <div class=\"colab-df-buttons\">\n",
              "\n",
              "  <div class=\"colab-df-container\">\n",
              "    <button class=\"colab-df-convert\" onclick=\"convertToInteractive('df-92ace8c2-a329-4c01-97e6-e20cd3f9d4ea')\"\n",
              "            title=\"Convert this dataframe to an interactive table.\"\n",
              "            style=\"display:none;\">\n",
              "\n",
              "  <svg xmlns=\"http://www.w3.org/2000/svg\" height=\"24px\" viewBox=\"0 -960 960 960\">\n",
              "    <path d=\"M120-120v-720h720v720H120Zm60-500h600v-160H180v160Zm220 220h160v-160H400v160Zm0 220h160v-160H400v160ZM180-400h160v-160H180v160Zm440 0h160v-160H620v160ZM180-180h160v-160H180v160Zm440 0h160v-160H620v160Z\"/>\n",
              "  </svg>\n",
              "    </button>\n",
              "\n",
              "  <style>\n",
              "    .colab-df-container {\n",
              "      display:flex;\n",
              "      gap: 12px;\n",
              "    }\n",
              "\n",
              "    .colab-df-convert {\n",
              "      background-color: #E8F0FE;\n",
              "      border: none;\n",
              "      border-radius: 50%;\n",
              "      cursor: pointer;\n",
              "      display: none;\n",
              "      fill: #1967D2;\n",
              "      height: 32px;\n",
              "      padding: 0 0 0 0;\n",
              "      width: 32px;\n",
              "    }\n",
              "\n",
              "    .colab-df-convert:hover {\n",
              "      background-color: #E2EBFA;\n",
              "      box-shadow: 0px 1px 2px rgba(60, 64, 67, 0.3), 0px 1px 3px 1px rgba(60, 64, 67, 0.15);\n",
              "      fill: #174EA6;\n",
              "    }\n",
              "\n",
              "    .colab-df-buttons div {\n",
              "      margin-bottom: 4px;\n",
              "    }\n",
              "\n",
              "    [theme=dark] .colab-df-convert {\n",
              "      background-color: #3B4455;\n",
              "      fill: #D2E3FC;\n",
              "    }\n",
              "\n",
              "    [theme=dark] .colab-df-convert:hover {\n",
              "      background-color: #434B5C;\n",
              "      box-shadow: 0px 1px 3px 1px rgba(0, 0, 0, 0.15);\n",
              "      filter: drop-shadow(0px 1px 2px rgba(0, 0, 0, 0.3));\n",
              "      fill: #FFFFFF;\n",
              "    }\n",
              "  </style>\n",
              "\n",
              "    <script>\n",
              "      const buttonEl =\n",
              "        document.querySelector('#df-92ace8c2-a329-4c01-97e6-e20cd3f9d4ea button.colab-df-convert');\n",
              "      buttonEl.style.display =\n",
              "        google.colab.kernel.accessAllowed ? 'block' : 'none';\n",
              "\n",
              "      async function convertToInteractive(key) {\n",
              "        const element = document.querySelector('#df-92ace8c2-a329-4c01-97e6-e20cd3f9d4ea');\n",
              "        const dataTable =\n",
              "          await google.colab.kernel.invokeFunction('convertToInteractive',\n",
              "                                                    [key], {});\n",
              "        if (!dataTable) return;\n",
              "\n",
              "        const docLinkHtml = 'Like what you see? Visit the ' +\n",
              "          '<a target=\"_blank\" href=https://colab.research.google.com/notebooks/data_table.ipynb>data table notebook</a>'\n",
              "          + ' to learn more about interactive tables.';\n",
              "        element.innerHTML = '';\n",
              "        dataTable['output_type'] = 'display_data';\n",
              "        await google.colab.output.renderOutput(dataTable, element);\n",
              "        const docLink = document.createElement('div');\n",
              "        docLink.innerHTML = docLinkHtml;\n",
              "        element.appendChild(docLink);\n",
              "      }\n",
              "    </script>\n",
              "  </div>\n",
              "\n",
              "    </div>\n",
              "  </div>\n"
            ]
          },
          "metadata": {},
          "execution_count": 115
        }
      ]
    },
    {
      "cell_type": "code",
      "source": [
        "from scipy.stats import ttest_ind\n",
        "def Diagnose_MV_Numerical(df,str_att_name,BM_MV):\n",
        "    MV_labels = {True:'With Missing Values',False:'Without Missing Values'}\n",
        "\n",
        "    labels=[]\n",
        "    box_sr = pd.Series('',index = BM_MV.unique())\n",
        "    for poss in BM_MV.unique():\n",
        "        BM = BM_MV == poss\n",
        "        box_sr[poss] = df[BM][str_att_name].dropna()\n",
        "        labels.append(MV_labels[poss])\n",
        "\n",
        "    plt.boxplot(box_sr,vert=False)\n",
        "    plt.yticks([1,2],labels)\n",
        "    plt.xlabel(str_att_name)\n",
        "    plt.show()\n",
        "\n",
        "    plt.figure(figsize=(10,4))\n",
        "\n",
        "    att_range = (df[str_att_name].min(),df[str_att_name].max())\n",
        "\n",
        "    for i,poss in enumerate(BM_MV.unique()):\n",
        "        plt.subplot(1,2,i+1)\n",
        "        BM = BM_MV == poss\n",
        "        df[BM][str_att_name].hist()\n",
        "        plt.xlim = att_range\n",
        "        plt.xlabel(str_att_name)\n",
        "        plt.title(MV_labels[poss])\n",
        "\n",
        "    plt.show()\n",
        "\n",
        "    group_1_data = df[BM_MV][str_att_name].dropna()\n",
        "    group_2_data = df[~BM_MV][str_att_name].dropna()\n",
        "\n",
        "    p_value = ttest_ind(group_1_data,group_2_data).pvalue\n",
        "\n",
        "    print('p-value of t-test: {}'.format(p_value))"
      ],
      "metadata": {
        "id": "mpbWpH_xcw1X"
      },
      "execution_count": 89,
      "outputs": []
    },
    {
      "cell_type": "code",
      "source": [
        "from scipy.stats import chi2_contingency\n",
        "def Diagnose_MV_Categorical(df,str_att_name,BM_MV):\n",
        "    MV_labels = {True:'With Missing Values',False:'Without Missing Values'}\n",
        "\n",
        "    plt.figure(figsize=(10,4))\n",
        "    for i,poss in enumerate(BM_MV.unique()):\n",
        "        plt.subplot(1,2,i+1)\n",
        "        BM = BM_MV == poss\n",
        "        df[BM][str_att_name].value_counts().plot.bar()\n",
        "        plt.title(MV_labels[poss])\n",
        "    plt.show()\n",
        "\n",
        "    contigency_table = pd.crosstab(BM_MV,df[str_att_name])\n",
        "    p_value = chi2_contingency(contigency_table)[1]\n",
        "\n",
        "    print('p-value of Chi_squared test: {}'.format(p_value))"
      ],
      "metadata": {
        "id": "ejjqw3orgZro"
      },
      "execution_count": null,
      "outputs": []
    },
    {
      "cell_type": "code",
      "source": [],
      "metadata": {
        "id": "Db8Lm1AnZjQT"
      },
      "execution_count": null,
      "outputs": []
    },
    {
      "cell_type": "markdown",
      "source": [
        "6. Utiliza una medida de tendencia central para imputar los valores faltantes de `Weight`. ¿Cuál es recomendable y por qué?"
      ],
      "metadata": {
        "id": "Ez5n5y3ABif0"
      }
    },
    {
      "cell_type": "code",
      "source": [
        "df['Weight'].fillna(df['Weight'].mean(), inplace=True)"
      ],
      "metadata": {
        "id": "foY7zWzqZqhU"
      },
      "execution_count": 90,
      "outputs": []
    },
    {
      "cell_type": "markdown",
      "source": [
        "Considero que, tratándose de una variable de tipo numérico, es mejor usar Mean. En caso de que fuera categórica, sería la Mode.\n",
        "Si se usara el método Drop se perdeían muchas observaciones."
      ],
      "metadata": {
        "id": "1e4FBjAFR50L"
      }
    },
    {
      "cell_type": "markdown",
      "source": [
        "7. ¿Hay valores atípicos de la variable `Weight`? Confírmalo con un gráfico de boxplot. ¿Cuántos son? Almacénalos en un dataframe independiente y elimínalos del conjunto original."
      ],
      "metadata": {
        "id": "lUN8erGWDT0E"
      }
    },
    {
      "cell_type": "code",
      "source": [
        "df.boxplot(column='Weight')\n",
        "plt.show()"
      ],
      "metadata": {
        "id": "OMNOu5ejZtSZ",
        "colab": {
          "base_uri": "https://localhost:8080/",
          "height": 430
        },
        "outputId": "37ca8fa5-d1fa-4b47-dddc-9f2d5249bc27"
      },
      "execution_count": 91,
      "outputs": [
        {
          "output_type": "display_data",
          "data": {
            "text/plain": [
              "<Figure size 640x480 with 1 Axes>"
            ],
            "image/png": "[encoded data removed]"
          },
          "metadata": {}
        }
      ]
    },
    {
      "cell_type": "code",
      "source": [
        "outliers = df[df['Weight'] > df['Weight'].quantile(0.75) + 1.5 * (df['Weight'].quantile(0.75) - df['Weight'].quantile(0.25))]\n",
        "outliers_df = pd.DataFrame(outliers)\n",
        "df = df[df['Weight'] <= df['Weight'].quantile(0.75) + 1.5 * (df['Weight'].quantile(0.75) - df['Weight'].quantile(0.25))]"
      ],
      "metadata": {
        "id": "ZeEZn3jgLGPw"
      },
      "execution_count": 92,
      "outputs": []
    },
    {
      "cell_type": "markdown",
      "source": [
        "8. Repite el mismo proceso de valores atípicos con la variable `Height`."
      ],
      "metadata": {
        "id": "N6pEvCBzLtIU"
      }
    },
    {
      "cell_type": "code",
      "source": [
        "df.boxplot(column='Height')\n",
        "plt.show()"
      ],
      "metadata": {
        "id": "XjLj1QTjZvEh",
        "colab": {
          "base_uri": "https://localhost:8080/",
          "height": 430
        },
        "outputId": "7c85369c-36a7-482b-fbcb-f0cd638e90a3"
      },
      "execution_count": 93,
      "outputs": [
        {
          "output_type": "display_data",
          "data": {
            "text/plain": [
              "<Figure size 640x480 with 1 Axes>"
            ],
            "image/png": "[encoded data removed]"
          },
          "metadata": {}
        }
      ]
    },
    {
      "cell_type": "code",
      "source": [
        "outliersH = df[df['Height'] > df['Height'].quantile(0.75) + 1.5 * (df['Height'].quantile(0.75) - df['Height'].quantile(0.25))]\n",
        "outliersHeight_df = pd.DataFrame(outliersH)\n",
        "df = df[df['Height'] <= df['Height'].quantile(0.75) + 1.5 * (df['Height'].quantile(0.75) - df['Height'].quantile(0.25))]\n"
      ],
      "metadata": {
        "id": "DvgsBP3BLUq3"
      },
      "execution_count": 95,
      "outputs": []
    },
    {
      "cell_type": "markdown",
      "source": [
        "9. ¿Hay encuestados que sean atípicos según su índice de masa corporal (`BMI`)? El `BMI` puede ser calculado usando la siguiente fórmula:\n",
        "\n",
        "`BMI = Weight / Height ^ 2`\n",
        "\n",
        "**NOTA**. El peso tiene que estar en kilogramos y la altura en metros, pero en el conjunto la altura se ha registrado en centímetros, por lo que deberás convertirla a metros."
      ],
      "metadata": {
        "id": "J-r83U_lEpsd"
      }
    },
    {
      "cell_type": "code",
      "source": [
        "df['BMI'] = df['Height'] / (df['Weight']*100 ** 2)"
      ],
      "metadata": {
        "id": "UZ4HWUzzZw_S"
      },
      "execution_count": 96,
      "outputs": []
    },
    {
      "cell_type": "markdown",
      "source": [
        "10. Utiliza boxplots para visualizar la distribución del `BMI` según cada una de las variables categóricas de texto. Comenta un hallazgo que llame tu atención."
      ],
      "metadata": {
        "id": "G_pt1FBWMOZG"
      }
    },
    {
      "cell_type": "code",
      "source": [
        "df.boxplot(column='BMI')\n",
        "plt.show()"
      ],
      "metadata": {
        "id": "K13uMSzfZydK",
        "colab": {
          "base_uri": "https://localhost:8080/",
          "height": 430
        },
        "outputId": "f0084c7c-daf3-426e-9a6a-16ef54ea2cb7"
      },
      "execution_count": 97,
      "outputs": [
        {
          "output_type": "display_data",
          "data": {
            "text/plain": [
              "<Figure size 640x480 with 1 Axes>"
            ],
            "image/png": "[encoded data removed]"
          },
          "metadata": {}
        }
      ]
    },
    {
      "cell_type": "markdown",
      "source": [],
      "metadata": {
        "id": "raI4HsBXsPYd"
      }
    },
    {
      "cell_type": "markdown",
      "source": [
        "**Conclusiones**"
      ],
      "metadata": {
        "id": "PRDMuzd_sI0-"
      }
    },
    {
      "cell_type": "markdown",
      "source": [
        "Mis conclusiones de este ejercicio son las siguientes:\n",
        "\n",
        "1.   La variable Weight, tiene un sesgo a la derecha, lo que se advierte porque la mayoría de las observaciones corresponden a pesos bajos y los outliers son personas de pesos extremadamente altos o extremadabamente bajos.\n",
        "\n",
        "2.   valores faltantes por cada columna. En el caso de Weight son apenas 20. Por eso, se considera que es una buena opción imputar este valor perdido que es numérico, con la media.\n",
        "\n",
        "3.   No encontré la forma de hacer las pruebas de independencias para los dos subconjuntos, aunque sí pude ver las dos gráficas de histograma. Esas gráficas dan una idea de que los valores faltantes sí se corresponden con la edad, de alguna manera.\n",
        "\n",
        "\n",
        "\n"
      ],
      "metadata": {
        "id": "k6_dDYrNsOqM"
      }
    }
  ],
  "metadata": {
    "kernelspec": {
      "display_name": "Python 3",
      "language": "python",
      "name": "python3"
    },
    "language_info": {
      "codemirror_mode": {
        "name": "ipython",
        "version": 3
      },
      "file_extension": ".py",
      "mimetype": "text/x-python",
      "name": "python",
      "nbconvert_exporter": "python",
      "pygments_lexer": "ipython3",
      "version": "3.8.5"
    },
    "colab": {
      "provenance": [],
      "include_colab_link": true
    }
  },
  "nbformat": 4,
  "nbformat_minor": 0
}